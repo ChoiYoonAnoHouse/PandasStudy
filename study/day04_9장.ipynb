{
 "cells": [
  {
   "cell_type": "code",
   "execution_count": 1,
   "id": "10282b9d-224e-4ea5-88e3-1d92f4345dd7",
   "metadata": {},
   "outputs": [],
   "source": [
    "#물건 가격을 입력받아서 가격을 출력합니다. 천단위 구분기호 넣어서. 소수 2자리\n",
    "#f 포맷팅을 이용해서 출력"
   ]
  },
  {
   "cell_type": "code",
   "execution_count": 3,
   "id": "3373cbfa-26ae-4446-901a-b1859f57a074",
   "metadata": {},
   "outputs": [
    {
     "name": "stdin",
     "output_type": "stream",
     "text": [
      "물건 가격을 입력해주세요 : >>  21351681\n"
     ]
    },
    {
     "name": "stdout",
     "output_type": "stream",
     "text": [
      "21,351,681.00\n"
     ]
    }
   ],
   "source": [
    "while True:\n",
    "    price = input('물건 가격을 입력해주세요 : >> ')\n",
    "    if price.isdigit():\n",
    "        price = int(price)\n",
    "        break\n",
    "print(f'{price:,.2f}') # 포멧의 약자"
   ]
  },
  {
   "cell_type": "code",
   "execution_count": 3,
   "id": "115233a1-7e51-4216-b90d-3e9486e7cf0f",
   "metadata": {},
   "outputs": [],
   "source": [
    "import re"
   ]
  },
  {
   "cell_type": "code",
   "execution_count": 4,
   "id": "c17724fa-16b6-453c-a9cd-8cbc25d10d9e",
   "metadata": {},
   "outputs": [],
   "source": [
    "#전화번호 입력 형식: 숫자 2~3 숫자 3-4 숫자 4\n",
    "#정확하게 입력될 때까지 반복하고정확히 입력된 값은 출력해준다."
   ]
  },
  {
   "cell_type": "code",
   "execution_count": 5,
   "id": "8c7651b6-1b22-4329-8a40-8734ce87f59c",
   "metadata": {},
   "outputs": [
    {
     "name": "stdin",
     "output_type": "stream",
     "text": [
      "전화 번호를 입력해주세요 :  010-3333-4444\n"
     ]
    },
    {
     "name": "stdout",
     "output_type": "stream",
     "text": [
      "010-3333-4444\n"
     ]
    }
   ],
   "source": [
    "while True:\n",
    "    phone_number = input(\"전화 번호를 입력해주세요 : \")\n",
    "    if re.match('(\\d{2,3})-(\\d{3,4})-(\\d{4})', phone_number):\n",
    "        break\n",
    "print(phone_number)"
   ]
  },
  {
   "cell_type": "code",
   "execution_count": 8,
   "id": "3bcb63dc-c8e8-4b62-b098-001fd883d093",
   "metadata": {},
   "outputs": [
    {
     "name": "stdin",
     "output_type": "stream",
     "text": [
      "전화번호 입력 :  010-3333-5555\n"
     ]
    },
    {
     "name": "stdout",
     "output_type": "stream",
     "text": [
      "010-3333-5555\n"
     ]
    }
   ],
   "source": [
    "while True:\n",
    "    tel = input('전화번호 입력 : ')\n",
    "    p = '^[0-9]{2,3}-[0-9]{3,4}-[0-9]{4}'\n",
    "    result = re.search(p, tel)\n",
    "    if result:\n",
    "        print(result.group())\n",
    "        break"
   ]
  },
  {
   "cell_type": "code",
   "execution_count": 9,
   "id": "4870befe-de2d-42e0-9cae-b686a12325be",
   "metadata": {},
   "outputs": [],
   "source": [
    "#이메일 입력 아이디는 최소 5글자 이상 첫글자는 [숫자,특수문자 불가], [영어 소문자,_,숫자]만 사용가능\n",
    "#아이디@사이트 주소 (ex: naver.com, daum.net).뒤의 문자는 2글자 이상만 가능"
   ]
  },
  {
   "cell_type": "code",
   "execution_count": 18,
   "id": "96f19a7c-b0a1-4785-8432-5f62950c252b",
   "metadata": {},
   "outputs": [
    {
     "name": "stdin",
     "output_type": "stream",
     "text": [
      "이메일을 입력하세요 :  akcu_1384_in@naver.com\n"
     ]
    },
    {
     "name": "stdout",
     "output_type": "stream",
     "text": [
      "akcu_1384_in@naver.com\n"
     ]
    }
   ],
   "source": [
    "while True:\n",
    "    email = input('이메일을 입력하세요 : ')\n",
    "    p = '[a-z][a-z0-9_]{4,}@[a-z]{2,}[.][a-z]{2,}'\n",
    "    patt = re.compile(p)\n",
    "    result = patt.match(email)\n",
    "    if result:\n",
    "        print(result.group())\n",
    "        break"
   ]
  },
  {
   "cell_type": "code",
   "execution_count": 29,
   "id": "02bc8550-a720-4afa-985c-f6f47090aaa8",
   "metadata": {},
   "outputs": [
    {
     "name": "stdin",
     "output_type": "stream",
     "text": [
      "한글을 입력해주세요 :  ㄹㅇㄹㄴ\n"
     ]
    },
    {
     "name": "stdout",
     "output_type": "stream",
     "text": [
      "ㄹㅇㄹㄴ\n"
     ]
    }
   ],
   "source": [
    "while True:\n",
    "    email = input('한글을 입력해주세요 : ')\n",
    "    p = '[ㄱ-ㅣ 가-힣]{2,}'\n",
    "    patt = re.compile(p)\n",
    "    result = patt.match(email)\n",
    "    if result:\n",
    "        print(result.group())\n",
    "        break"
   ]
  },
  {
   "cell_type": "code",
   "execution_count": null,
   "id": "c669fa02-2030-42c9-bcef-2d338376a451",
   "metadata": {},
   "outputs": [],
   "source": []
  }
 ],
 "metadata": {
  "kernelspec": {
   "display_name": "Python 3 (ipykernel)",
   "language": "python",
   "name": "python3"
  },
  "language_info": {
   "codemirror_mode": {
    "name": "ipython",
    "version": 3
   },
   "file_extension": ".py",
   "mimetype": "text/x-python",
   "name": "python",
   "nbconvert_exporter": "python",
   "pygments_lexer": "ipython3",
   "version": "3.9.12"
  }
 },
 "nbformat": 4,
 "nbformat_minor": 5
}
